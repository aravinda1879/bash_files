{
 "cells": [
  {
   "cell_type": "code",
   "execution_count": 6,
   "metadata": {},
   "outputs": [],
   "source": [
    "from Bio import pairwise2\n",
    "from Bio import SeqIO\n",
    "from Bio.Align import substitution_matrices\n",
    "import sqlite3 as lite\n",
    "import pandas as pd\n",
    "import sys\n",
    "import os\n",
    "import subprocess\n",
    "import matplotlib.pyplot as plt\n",
    "from Bio.Align.Applications import TCoffeeCommandline\n",
    "from Bio.Seq import Seq\n",
    "from Bio.SeqRecord import SeqRecord\n",
    "from Bio import SeqIO\n",
    "from Bio import AlignIO\n",
    "from collections import Counter\n",
    "import numpy as np\n",
    "from Bio.Data import IUPACData \n",
    "from Bio.SeqUtils.ProtParam import ProteinAnalysis\n",
    "blosum62 = substitution_matrices.load(\"BLOSUM62\")\n",
    "seq1 = SeqIO.read(\"target.fasta\", \"fasta\")\n",
    "seq2 = SeqIO.read(\"rcsb_pdb_6LKS.fasta\", \"fasta\")\n"
   ]
  },
  {
   "cell_type": "code",
   "execution_count": 7,
   "metadata": {},
   "outputs": [],
   "source": [
    "#df = pd.read_csv('mutatnt_list_12coInter_10_d3.mut',header=None)"
   ]
  },
  {
   "cell_type": "code",
   "execution_count": 8,
   "metadata": {},
   "outputs": [],
   "source": [
    "with open('mutatnt_list_10_d2.mut') as f:\n",
    "    read_data = f.read()\n",
    "new = read_data.split()\n"
   ]
  },
  {
   "cell_type": "code",
   "execution_count": 9,
   "metadata": {},
   "outputs": [],
   "source": [
    "new_line = []\n",
    "for line in new:\n",
    "    elements = line.split(',')\n",
    "    temp = []\n",
    "    for element in elements:\n",
    "        temp.append(f'{element[0]}{int(element[1:-1])+2}{element[-1]}')\n",
    "    new_line.append(','.join(temp))"
   ]
  },
  {
   "cell_type": "code",
   "execution_count": 10,
   "metadata": {},
   "outputs": [],
   "source": [
    "with open('mutatnt_list_10_d2_indexCor.mut','w') as f:\n",
    "    for line in new_line:\n",
    "        f.write(line+ '\\n')\n"
   ]
  },
  {
   "cell_type": "code",
   "execution_count": 1,
   "metadata": {},
   "outputs": [
    {
     "data": {
      "text/plain": [
       "'/home/aravinda1879/research/polymer_vaccine/kim_work_wt/noFoldon_extractedGemme'"
      ]
     },
     "execution_count": 1,
     "metadata": {},
     "output_type": "execute_result"
    }
   ],
   "source": [
    "pwd"
   ]
  },
  {
   "cell_type": "code",
   "execution_count": null,
   "metadata": {},
   "outputs": [],
   "source": []
  }
 ],
 "metadata": {
  "kernelspec": {
   "display_name": "Python 3",
   "language": "python",
   "name": "python3"
  },
  "language_info": {
   "codemirror_mode": {
    "name": "ipython",
    "version": 3
   },
   "file_extension": ".py",
   "mimetype": "text/x-python",
   "name": "python",
   "nbconvert_exporter": "python",
   "pygments_lexer": "ipython3",
   "version": "3.6.12"
  }
 },
 "nbformat": 4,
 "nbformat_minor": 4
}
