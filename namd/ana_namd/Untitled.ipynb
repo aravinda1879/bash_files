{
 "cells": [
  {
   "cell_type": "code",
   "execution_count": 1,
   "metadata": {},
   "outputs": [
    {
     "name": "stdout",
     "output_type": "stream",
     "text": [
      "CPU times: user 268 ms, sys: 44.2 ms, total: 313 ms\n",
      "Wall time: 414 ms\n"
     ]
    }
   ],
   "source": [
    "%%time\n",
    "import numpy as np\n",
    "import os\n",
    "import sys\n",
    "import matplotlib.pyplot as plt\n",
    "import gc\n",
    "#infile1 = str(sys.argv[2])\n",
    "#infile2 = str(sys.argv[3])\n",
    "#ofile1 = str(sys.argv[4])\n",
    "infile2 = \"contact_noH_prot_wat_shell.dat\"\n",
    "infile1 = \"ct_hid_w_5ps_wb.pdb\"\n",
    "#ofile1=\"test\"\n",
    "file1 = \"%s\"%(infile1)\n",
    "file2 = \"%s\"%(infile2)\n",
    "\n",
    "residue_index, linedata, new_data, residue, resid = [], [], [], 0, 1\n",
    "\n",
    "#reading pdb and dumping list with residue number\n",
    "with open('%s'%(file1), 'r') as f:\n",
    "    data = f.readlines()\n",
    "    # data = list(map(lambda x: list( x.split()), data))\n",
    "    for line in data:\n",
    "        if line[0:4] == 'ATOM':\n",
    "            if resid != int(line[22:27]):\n",
    "                residue = residue + 1\n",
    "                resid = int(line[22:27])\n",
    "            residue_index.append(residue)\n",
    "#replacing index with residue\n"
   ]
  },
  {
   "cell_type": "code",
   "execution_count": 2,
   "metadata": {},
   "outputs": [
    {
     "name": "stdout",
     "output_type": "stream",
     "text": [
      "CPU times: user 3.08 s, sys: 2.51 s, total: 5.59 s\n",
      "Wall time: 9.13 s\n"
     ]
    }
   ],
   "source": [
    "%%time\n",
    "with open('%s'%(file2), 'r') as f:\n",
    "    data1 = f.readline()\n",
    "    data1 = f.readline()\n",
    "    data = f.readlines()\n",
    "    #for line in f:\n",
    "    f.close()\n",
    "gc.collect()\n"
   ]
  },
  {
   "cell_type": "code",
   "execution_count": 3,
   "metadata": {},
   "outputs": [
    {
     "name": "stdout",
     "output_type": "stream",
     "text": [
      "CPU times: user 1min 36s, sys: 3.98 s, total: 1min 40s\n",
      "Wall time: 1min 40s\n"
     ]
    }
   ],
   "source": [
    "%%time\n",
    "gc.collect()\n",
    "data = list(map(lambda x: list(map(int, x.split('|')[-1].split())), data))"
   ]
  },
  {
   "cell_type": "code",
   "execution_count": 5,
   "metadata": {},
   "outputs": [
    {
     "data": {
      "text/plain": [
       "111422"
      ]
     },
     "execution_count": 5,
     "metadata": {},
     "output_type": "execute_result"
    }
   ],
   "source": [
    "\n",
    "len(data)"
   ]
  },
  {
   "cell_type": "code",
   "execution_count": 6,
   "metadata": {
    "collapsed": true
   },
   "outputs": [],
   "source": [
    "for tmp in data: \n",
    "    time_stp = list(set(tmp))\n",
    "    new_data.append([residue_index[t] for t in time_stp])\n"
   ]
  },
  {
   "cell_type": "code",
   "execution_count": 9,
   "metadata": {
    "collapsed": true
   },
   "outputs": [],
   "source": [
    "with open('test.csv', 'w+') as tmp:\n",
    "    for i, t in enumerate(new_data):\n",
    "        tmp.write('{}|{}'.format(i,str(t).replace(',', '').replace('[', '').replace(']', '') + '\\n'))\n",
    "    tmp.close()\n",
    "    "
   ]
  },
  {
   "cell_type": "code",
   "execution_count": 8,
   "metadata": {},
   "outputs": [
    {
     "data": {
      "text/plain": [
       "260"
      ]
     },
     "execution_count": 8,
     "metadata": {},
     "output_type": "execute_result"
    }
   ],
   "source": [
    "len(new_data[0])\n"
   ]
  },
  {
   "cell_type": "code",
   "execution_count": null,
   "metadata": {
    "collapsed": true
   },
   "outputs": [],
   "source": []
  }
 ],
 "metadata": {
  "kernelspec": {
   "display_name": "Python 3",
   "language": "python",
   "name": "python3"
  },
  "language_info": {
   "codemirror_mode": {
    "name": "ipython",
    "version": 3
   },
   "file_extension": ".py",
   "mimetype": "text/x-python",
   "name": "python",
   "nbconvert_exporter": "python",
   "pygments_lexer": "ipython3",
   "version": "3.6.1"
  }
 },
 "nbformat": 4,
 "nbformat_minor": 2
}
